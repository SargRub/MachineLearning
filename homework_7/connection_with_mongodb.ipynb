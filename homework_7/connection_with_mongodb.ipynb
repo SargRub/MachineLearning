{
 "cells": [
  {
   "cell_type": "code",
   "execution_count": 1,
   "metadata": {},
   "outputs": [
    {
     "data": {
      "text/plain": [
       "{'_id': ObjectId('5f1ed1d55058a82963ab708f'),\n",
       " 'title': 'Armenian Genocide',\n",
       " 'description': 'Armenian Genocide is an abnormal event in our history',\n",
       " 'author': 'Eleonora',\n",
       " 'date': datetime.datetime(2020, 7, 27, 13, 8, 37, 426000),\n",
       " 'comments': [{'author': 'Ruben', 'description': \"You're really right\"}]}"
      ]
     },
     "execution_count": 1,
     "metadata": {},
     "output_type": "execute_result"
    }
   ],
   "source": [
    "import pymongo\n",
    "\n",
    "client = pymongo.MongoClient()\n",
    "db = client.website\n",
    "collection = db.posts\n",
    "\n",
    "collection.find_one()"
   ]
  },
  {
   "cell_type": "code",
   "execution_count": null,
   "metadata": {},
   "outputs": [],
   "source": []
  }
 ],
 "metadata": {
  "kernelspec": {
   "display_name": "Python 3",
   "language": "python",
   "name": "python3"
  },
  "language_info": {
   "codemirror_mode": {
    "name": "ipython",
    "version": 3
   },
   "file_extension": ".py",
   "mimetype": "text/x-python",
   "name": "python",
   "nbconvert_exporter": "python",
   "pygments_lexer": "ipython3",
   "version": "3.7.6"
  }
 },
 "nbformat": 4,
 "nbformat_minor": 4
}
